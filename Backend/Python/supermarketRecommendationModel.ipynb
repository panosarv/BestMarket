{
 "cells": [
  {
   "cell_type": "code",
   "execution_count": 2,
   "metadata": {},
   "outputs": [],
   "source": [
    "import pandas as pd\n",
    "import pandas as pd\n",
    "import joblib\n",
    "\n",
    "\n",
    "\n",
    "from sklearn.ensemble import GradientBoostingRegressor\n",
    "import numpy as np\n",
    "from sklearn.model_selection import train_test_split\n"
   ]
  },
  {
   "cell_type": "code",
   "execution_count": 3,
   "metadata": {},
   "outputs": [
    {
     "data": {
      "text/html": [
       "<div>\n",
       "<style scoped>\n",
       "    .dataframe tbody tr th:only-of-type {\n",
       "        vertical-align: middle;\n",
       "    }\n",
       "\n",
       "    .dataframe tbody tr th {\n",
       "        vertical-align: top;\n",
       "    }\n",
       "\n",
       "    .dataframe thead th {\n",
       "        text-align: right;\n",
       "    }\n",
       "</style>\n",
       "<table border=\"1\" class=\"dataframe\">\n",
       "  <thead>\n",
       "    <tr style=\"text-align: right;\">\n",
       "      <th></th>\n",
       "      <th>supermarketId</th>\n",
       "      <th>TimeOfDay</th>\n",
       "      <th>Distance</th>\n",
       "      <th>WeatherCondition</th>\n",
       "      <th>MeansOfTransport</th>\n",
       "      <th>Cost</th>\n",
       "      <th>Rating</th>\n",
       "      <th>Target</th>\n",
       "    </tr>\n",
       "  </thead>\n",
       "  <tbody>\n",
       "    <tr>\n",
       "      <th>count</th>\n",
       "      <td>102045.000000</td>\n",
       "      <td>102045.000000</td>\n",
       "      <td>102045.000000</td>\n",
       "      <td>102045.000000</td>\n",
       "      <td>102045.000000</td>\n",
       "      <td>102045.000000</td>\n",
       "      <td>102045.000000</td>\n",
       "      <td>102045.000000</td>\n",
       "    </tr>\n",
       "    <tr>\n",
       "      <th>mean</th>\n",
       "      <td>237.204106</td>\n",
       "      <td>1430.036494</td>\n",
       "      <td>5022.224832</td>\n",
       "      <td>1.500965</td>\n",
       "      <td>2.000627</td>\n",
       "      <td>125.668499</td>\n",
       "      <td>4.300106</td>\n",
       "      <td>45.786926</td>\n",
       "    </tr>\n",
       "    <tr>\n",
       "      <th>std</th>\n",
       "      <td>20.928716</td>\n",
       "      <td>375.054612</td>\n",
       "      <td>2886.821013</td>\n",
       "      <td>1.117105</td>\n",
       "      <td>1.410119</td>\n",
       "      <td>71.550325</td>\n",
       "      <td>0.234563</td>\n",
       "      <td>30.533660</td>\n",
       "    </tr>\n",
       "    <tr>\n",
       "      <th>min</th>\n",
       "      <td>1.000000</td>\n",
       "      <td>800.000000</td>\n",
       "      <td>10.000000</td>\n",
       "      <td>0.000000</td>\n",
       "      <td>0.000000</td>\n",
       "      <td>1.000000</td>\n",
       "      <td>3.900000</td>\n",
       "      <td>0.000000</td>\n",
       "    </tr>\n",
       "    <tr>\n",
       "      <th>25%</th>\n",
       "      <td>240.000000</td>\n",
       "      <td>1114.000000</td>\n",
       "      <td>2518.000000</td>\n",
       "      <td>1.000000</td>\n",
       "      <td>1.000000</td>\n",
       "      <td>64.000000</td>\n",
       "      <td>4.100000</td>\n",
       "      <td>18.636600</td>\n",
       "    </tr>\n",
       "    <tr>\n",
       "      <th>50%</th>\n",
       "      <td>240.000000</td>\n",
       "      <td>1429.000000</td>\n",
       "      <td>5039.000000</td>\n",
       "      <td>2.000000</td>\n",
       "      <td>2.000000</td>\n",
       "      <td>125.000000</td>\n",
       "      <td>4.300000</td>\n",
       "      <td>45.415400</td>\n",
       "    </tr>\n",
       "    <tr>\n",
       "      <th>75%</th>\n",
       "      <td>240.000000</td>\n",
       "      <td>1747.000000</td>\n",
       "      <td>7520.000000</td>\n",
       "      <td>2.000000</td>\n",
       "      <td>3.000000</td>\n",
       "      <td>188.000000</td>\n",
       "      <td>4.500000</td>\n",
       "      <td>72.174800</td>\n",
       "    </tr>\n",
       "    <tr>\n",
       "      <th>max</th>\n",
       "      <td>240.000000</td>\n",
       "      <td>2059.000000</td>\n",
       "      <td>10000.000000</td>\n",
       "      <td>3.000000</td>\n",
       "      <td>4.000000</td>\n",
       "      <td>250.000000</td>\n",
       "      <td>4.700000</td>\n",
       "      <td>99.800000</td>\n",
       "    </tr>\n",
       "  </tbody>\n",
       "</table>\n",
       "</div>"
      ],
      "text/plain": [
       "       supermarketId      TimeOfDay       Distance  WeatherCondition  \\\n",
       "count  102045.000000  102045.000000  102045.000000     102045.000000   \n",
       "mean      237.204106    1430.036494    5022.224832          1.500965   \n",
       "std        20.928716     375.054612    2886.821013          1.117105   \n",
       "min         1.000000     800.000000      10.000000          0.000000   \n",
       "25%       240.000000    1114.000000    2518.000000          1.000000   \n",
       "50%       240.000000    1429.000000    5039.000000          2.000000   \n",
       "75%       240.000000    1747.000000    7520.000000          2.000000   \n",
       "max       240.000000    2059.000000   10000.000000          3.000000   \n",
       "\n",
       "       MeansOfTransport           Cost         Rating         Target  \n",
       "count     102045.000000  102045.000000  102045.000000  102045.000000  \n",
       "mean           2.000627     125.668499       4.300106      45.786926  \n",
       "std            1.410119      71.550325       0.234563      30.533660  \n",
       "min            0.000000       1.000000       3.900000       0.000000  \n",
       "25%            1.000000      64.000000       4.100000      18.636600  \n",
       "50%            2.000000     125.000000       4.300000      45.415400  \n",
       "75%            3.000000     188.000000       4.500000      72.174800  \n",
       "max            4.000000     250.000000       4.700000      99.800000  "
      ]
     },
     "execution_count": 3,
     "metadata": {},
     "output_type": "execute_result"
    }
   ],
   "source": [
    "\n",
    "df=pd.read_excel('TrainingDatasetV2.xlsx')\n",
    "df.head()\n",
    "df.describe()"
   ]
  },
  {
   "cell_type": "code",
   "execution_count": null,
   "metadata": {},
   "outputs": [],
   "source": [
    "X = df[['Distance', 'Cost', 'MeansOfTransport','WeatherCondition','TimeOfDay','Rating']].astype('float32')\n",
    "y = df['Target'].astype('float32')\n",
    "X_train, X_test, y_train, y_test = train_test_split(X, y, test_size=0.2, random_state=42)"
   ]
  },
  {
   "cell_type": "code",
   "execution_count": null,
   "metadata": {},
   "outputs": [],
   "source": [
    "model=GradientBoostingRegressor(n_estimators=100, max_depth=10, random_state=0)\n"
   ]
  },
  {
   "cell_type": "code",
   "execution_count": null,
   "metadata": {},
   "outputs": [
    {
     "data": {
      "text/plain": [
       "array([83.49094736, 39.48986558,  8.58128715, ..., 88.62764627,\n",
       "        3.02120441, 69.50965393])"
      ]
     },
     "execution_count": 6,
     "metadata": {},
     "output_type": "execute_result"
    }
   ],
   "source": [
    "model.fit(X_train, y_train)\n",
    "model.score(X_test, y_test)\n",
    "y_test=model.predict(X_test)\n",
    "y_test"
   ]
  },
  {
   "cell_type": "code",
   "execution_count": null,
   "metadata": {},
   "outputs": [
    {
     "data": {
      "text/plain": [
       "['model.pkl']"
      ]
     },
     "execution_count": 7,
     "metadata": {},
     "output_type": "execute_result"
    }
   ],
   "source": [
    "# Save the model\n",
    "joblib.dump(model, 'model.pkl')"
   ]
  }
 ],
 "metadata": {
  "kernelspec": {
   "display_name": "Python 3",
   "language": "python",
   "name": "python3"
  },
  "language_info": {
   "codemirror_mode": {
    "name": "ipython",
    "version": 3
   },
   "file_extension": ".py",
   "mimetype": "text/x-python",
   "name": "python",
   "nbconvert_exporter": "python",
   "pygments_lexer": "ipython3",
   "version": "3.10.5"
  }
 },
 "nbformat": 4,
 "nbformat_minor": 2
}
